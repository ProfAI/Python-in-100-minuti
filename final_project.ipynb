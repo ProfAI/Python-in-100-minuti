{
  "nbformat": 4,
  "nbformat_minor": 0,
  "metadata": {
    "colab": {
      "name": "final_project.ipynb",
      "provenance": [],
      "collapsed_sections": [],
      "authorship_tag": "ABX9TyPNnfVUUr9yN7l6jlCXaxpl",
      "include_colab_link": true
    },
    "kernelspec": {
      "name": "python3",
      "display_name": "Python 3"
    },
    "language_info": {
      "name": "python"
    }
  },
  "cells": [
    {
      "cell_type": "markdown",
      "metadata": {
        "id": "view-in-github",
        "colab_type": "text"
      },
      "source": [
        "<a href=\"https://colab.research.google.com/github/ProfAI/Python-in-100-minuti/blob/master/final_project.ipynb\" target=\"_parent\"><img src=\"https://colab.research.google.com/assets/colab-badge.svg\" alt=\"Open In Colab\"/></a>"
      ]
    },
    {
      "cell_type": "markdown",
      "metadata": {
        "id": "7V9jvjHENf6S"
      },
      "source": [
        "# Software di un negozio di prodotti vegani\n",
        "Questo progetto consiste nel realizzare un software per la gestione di un negozio di prodotti vegani.\n",
        "Il software deve avere le seguenti funzionalità:\n",
        "- Registrare nuovi prodotti, con nome, quantità, prezzo di vendita e prezzo di acquisto.\n",
        "- Elencare tutti i prodotti presenti.\n",
        "- Registrare le vendite effettuate.\n",
        "- Mostrare i profitti lordi e netti.\n",
        "- Mostrare un menu di aiuto con tutti i comandi disponibili.\n",
        "\n",
        "Il software è testuale, quindi utilizzabile da riga di comando.\n",
        "\n",
        "### NOTE\n",
        "- Cerca di scrivere del buon codice organizzandolo le varie funzionalità in apposite funzioni.\n",
        "- Prima di scrivere il codice, pensa a quali sono le migliori strutture dati da utilizzare: liste, tuple, dizionari, o combinazioni di esse come liste di dizionari.\n",
        "- Per questo progetto non è richiesto realizzare un programma persistente, cioè le informazioni inserite dall'utente verranno salvate in memoria solo fino a quando il programma è in esecuzione.\n",
        "- Assicurati che gli input inseriti dall'utente siano validi, ad esempio che i numeri siano effettivamente numeri, gestisci i casi non validi con eccezioni e messagi di errore.\n",
        "- Durante un acquisto, verifica che i prodotti acquistati siano effettivamente presenti nel magazzino, nel caso negativo mostra all'utente un messaggio di errore.\n",
        "- Durante l'aggiunta in magazzino, verifica se il prodotto da aggiungere è già presente magazzino, nel caso positivo aggiungi la quantità a quella già presente in magazzino, in questo caso non serve specificare di nuovo il prezzo di acquisto e di vendita, altrimenti registralo come un nuovo prodotto.\n",
        "- Il profitto lordo è il totale delle vendite, cioè tutto ciò che i clienti hanno pagato, il profitto netto invece è pari al profitto lordo meno il costo di acquisto per i prodotti."
      ]
    },
    {
      "cell_type": "markdown",
      "metadata": {
        "id": "n8mprdSzYNxZ"
      },
      "source": [
        "## ESEMPIO DI INTERAZIONE CON IL PROGRAMMA (in grassetto l'input dell'utente)\n",
        "Inserisci un comando: **aiuto** </br>\n",
        "I comandi disponibili sono i seguenti: \n",
        " - aggiungi: aggiungi un prodotto al magazzino\n",
        " - elenca: elenca i prodotto in magazzino\n",
        " - vendita: registra una vendita effettuata\n",
        " - profitti: mostra i profitti totali\n",
        " - aiuto: mostra i possibili comandi\n",
        " - chiudi: esci dal programma\n",
        "\n",
        "\n",
        "Inserisci un comando: **aggiungi** </br>\n",
        "Nome del prodotto: **latte di soia** </br>\n",
        "Quantità: **20** </br>\n",
        "Prezzo di acquisto: **0.80** </br>\n",
        "Prezzo di vendita: **1.40** </br>\n",
        "AGGIUNTO: 20 X latte di soia </br>\n",
        "</br>\n",
        "Inserisci un comando: **aggiungi** </br>\n",
        "Nome del prodotto: **tofu* *</br>\n",
        "Quantità: **10** </br>\n",
        "Prezzo di acquisto: **2.20** </br>\n",
        "Prezzo di vendita: **4.19** </br>\n",
        "AGGIUNTO: 10 X tofu </br>\n",
        "</br>\n",
        "Inserisci un comando: **aggiungi** </br>\n",
        "Nome del prodotto: **seitan** </br>\n",
        "Quantità: **5** </br>\n",
        "Prezzo di acquisto: **3** </br>\n",
        "Prezzo di vendita: **5.49** </br>\n",
        "AGGIUNTO: 5 X seitan </br>\n",
        "</br>\n",
        "Inserisci un comando: **elenca** </br>\n",
        "PRODOTTO\tQUANTITA'\tPREZZO </br>\n",
        "latte di soia\t20\t€1.4 </br>\n",
        "tofu\t10\t€4.19 </br>\n",
        "seitan\t5\t€5.49 </br>\n",
        "</br>\n",
        "Inserisci un comando: **vendita** </br>\n",
        "Nome del prodotto: **latte di soia** </br>\n",
        "Quantità: 5 </br>\n",
        "Aggiungere un altro prodotto ? (si/no): **si** </br>\n",
        "Nome del prodotto: **tofu** </br> \n",
        "Quantità: **2** </br>\n",
        "Aggiungere un altro prodotto ? (si/no): **no** </br>\n",
        "VENDITA REGISTRATA </br>\n",
        " - 5 X latte di soia: €1.40 </br>\n",
        " - 2 X tofu: €4.19 </br>\n",
        "\n",
        "Totale: €15.38 </br>\n",
        "</br>\n",
        "Inserisci un comando: **elenca** </br>\n",
        "PRODOTTO\tQUANTITA'\tPREZZO </br>\n",
        "latte di soia\t15\t€1.4 </br>\n",
        "tofu\t8\t€4.19 </br>\n",
        "seitan\t5\t€5.49 </br>\n",
        "</br>\n",
        "Inserisci un comando: **vendita** </br>\n",
        "Nome del prodotto: **seitan** </br>\n",
        "Quantità: **5** </br>\n",
        "Aggiungere un altro prodotto ? (si/no): **no** </br>\n",
        "VENDITA REGISTRATA </br>\n",
        " - 5 X seitan: €5.49 </br>\n",
        "\n",
        "Totale: €27.45 </br>\n",
        "</br>\n",
        "Inserisci un comando: **elenca** </br>\n",
        "PRODOTTO\tQUANTITA'\tPREZZO </br>\n",
        "latte di soia\t15\t€1.4 </br>\n",
        "tofu\t8\t€4.19 </br>\n",
        "</br>\n",
        "Inserisci un comando: **profitti** </br>\n",
        "Profitto: lordo=€42.83 netto=€19.43 </br>\n",
        "</br>\n",
        "Inserisci un comando: **storna** </br>\n",
        "Comando non valido </br>\n",
        "I comandi disponibili sono i seguenti: </br>\n",
        "- aggiungi: aggiungi un prodotto al magazzino </br>\n",
        "- elenca: elenca i prodotto in magazzino </br>\n",
        "- vendita: registra una vendita effettuata </br>\n",
        "- profitti: mostra i profitti totali </br>\n",
        "- aiuto: mostra i possibili comandi </br>\n",
        "- chiudi: esci dal programma </br>\n",
        "\n",
        "Inserisci un comando: **chiudi** </br>\n",
        "Bye bye"
      ]
    },
    {
      "cell_type": "markdown",
      "metadata": {
        "id": "Hoj3eZFQdueX"
      },
      "source": [
        "### La tua soluzione\n",
        "Di seguito il loop principale del programma, completalo implementando le varie funzionalità (è normale ottenere un'errore cercando di eseguire il codice base, dato che questo è incompleto)."
      ]
    },
    {
      "cell_type": "code",
      "metadata": {
        "colab": {
          "base_uri": "https://localhost:8080/",
          "height": 130
        },
        "id": "XlaL4t9kcbTM",
        "outputId": "355ae5c9-992a-4101-f943-5fba23c6053b"
      },
      "source": [
        "cmd = None\n",
        "\n",
        "while cmd!=\"esci\":\n",
        "\n",
        "  cmd = input(\"Inserisci un comando: \")\n",
        "\n",
        "  if cmd==\"vendita\":\n",
        "    # registra una vendita\n",
        "    # ...\n",
        "  elif cmd==\"profitti\":\n",
        "    # mostra profitti netti e lordi\n",
        "    # ...\n",
        "  elif cmd==\"aggiungi\":\n",
        "    # aggiungi un prodotto al magazzino\n",
        "    # ...\n",
        "  elif cmd==\"elenca\":\n",
        "    # elenca tutti i prodotti nel magazzino\n",
        "    # ...\n",
        "  elif cmd==\"aiuto\":\n",
        "    # mostra i possibili comandi\n",
        "    # ...\n",
        "  elif cmd==\"chiudi\":\n",
        "    # saluta e interrompi il programma\n",
        "    # ...\n",
        "  else:\n",
        "    # comando non valido\n",
        "    # mostra messaggio di aiuto\n",
        "    # ..."
      ],
      "execution_count": null,
      "outputs": [
        {
          "output_type": "error",
          "ename": "IndentationError",
          "evalue": "ignored",
          "traceback": [
            "\u001b[0;36m  File \u001b[0;32m\"<ipython-input-5-e12ef8c69fa2>\"\u001b[0;36m, line \u001b[0;32m10\u001b[0m\n\u001b[0;31m    elif cmd==\"profitti\":\u001b[0m\n\u001b[0m       ^\u001b[0m\n\u001b[0;31mIndentationError\u001b[0m\u001b[0;31m:\u001b[0m expected an indented block\n"
          ]
        }
      ]
    }
  ]
}